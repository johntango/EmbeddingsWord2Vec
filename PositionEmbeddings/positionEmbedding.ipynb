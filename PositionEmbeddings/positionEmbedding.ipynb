{
 "cells": [
  {
   "cell_type": "code",
   "execution_count": null,
   "metadata": {},
   "outputs": [],
   "source": []
  },
  {
   "attachments": {},
   "cell_type": "markdown",
   "metadata": {},
   "source": [
    "# Position Embeddings"
   ]
  },
  {
   "cell_type": "code",
   "execution_count": 2,
   "metadata": {},
   "outputs": [
    {
     "ename": "LoadError",
     "evalue": "ArgumentError: Package numpy not found in current path:\n- Run `import Pkg; Pkg.add(\"numpy\")` to install the numpy package.\n",
     "output_type": "error",
     "traceback": [
      "ArgumentError: Package numpy not found in current path:\n- Run `import Pkg; Pkg.add(\"numpy\")` to install the numpy package.\n",
      "",
      "Stacktrace:",
      " [1] require(into::Module, mod::Symbol)",
      "   @ Base ./loading.jl:967",
      " [2] eval",
      "   @ ./boot.jl:373 [inlined]",
      " [3] include_string(mapexpr::typeof(REPL.softscope), mod::Module, code::String, filename::String)",
      "   @ Base ./loading.jl:1196"
     ]
    }
   ],
   "source": [
    "import numpy as np\n",
    "import matplotlib.pyplot as plt\n"
   ]
  },
  {
   "cell_type": "code",
   "execution_count": null,
   "metadata": {},
   "outputs": [],
   "source": [
    "\n",
    "def getPositionEncoding(seq_len, d, n=10000):\n",
    "    P = np.zeros((seq_len, d))\n",
    "    for k in range(seq_len):\n",
    "        for i in np.arange(int(d/2)):\n",
    "            denominator = np.power(n, 2*i/d)\n",
    "            P[k, 2*i] = np.sin(k/denominator)\n",
    "            P[k, 2*i+1] = np.cos(k/denominator)\n",
    "    return P\n",
    "\n",
    "\n",
    "P = getPositionEncoding(seq_len=4, d=4, n=100)\n",
    "print(P)\n",
    "\n"
   ]
  },
  {
   "cell_type": "code",
   "execution_count": null,
   "metadata": {},
   "outputs": [],
   "source": [
    "\n",
    "def plotSinusoid(k, d=512, n=10000):\n",
    "    x = np.arange(0, 100, 1)\n",
    "    denominator = np.power(n, 2*x/d)\n",
    "    y = np.sin(k/denominator)\n",
    "    plt.plot(x, y)\n",
    "    plt.title('k = ' + str(k))\n",
    "\n",
    "\n",
    "fig = plt.figure(figsize=(15, 4))\n",
    "for i in range(4):\n",
    "    plt.subplot(141 + i)\n",
    "    plotSinusoid(i*4)\n"
   ]
  },
  {
   "cell_type": "code",
   "execution_count": null,
   "metadata": {},
   "outputs": [],
   "source": [
    "P = getPositionEncoding(seq_len=100, d=512, n=10000)\n",
    "cax = plt.matshow(P)\n",
    "plt.gcf().colorbar(cax)"
   ]
  },
  {
   "attachments": {},
   "cell_type": "markdown",
   "metadata": {},
   "source": []
  }
 ],
 "metadata": {
  "kernelspec": {
   "display_name": "Julia 1.7.1",
   "language": "julia",
   "name": "julia-1.7"
  },
  "language_info": {
   "file_extension": ".jl",
   "mimetype": "application/julia",
   "name": "julia",
   "version": "1.7.1"
  },
  "orig_nbformat": 4
 },
 "nbformat": 4,
 "nbformat_minor": 2
}
